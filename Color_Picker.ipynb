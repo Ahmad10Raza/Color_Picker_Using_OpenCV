{
 "cells": [
  {
   "cell_type": "markdown",
   "metadata": {},
   "source": [
    "# Color PIcker Using OPenCV"
   ]
  },
  {
   "cell_type": "markdown",
   "metadata": {},
   "source": [
    "A color picker is a graphical user interface (GUI) tool or software component that allows users to select colors from a color palette or spectrum. It's commonly used in graphic design, web development, and various applications where choosing specific colors is important.\n",
    "\n",
    "Typically, a color picker provides several features:\n",
    "\n",
    "1. Color Palette: It displays a range of colors, often organized in a grid or spectrum. Users can click on a color to select it.\n",
    "\n",
    "2. Color Selection: Users can manually select a color by clicking on a specific point within the color palette or spectrum.\n",
    "\n",
    "3. Color Codes: A color picker often provides color codes such as RGB (Red, Green, Blue), HEX (hexadecimal), or HSL (Hue, Saturation, Lightness) to represent the selected color. These codes are useful for specifying colors in various applications, such as web design and image editing.\n",
    "\n",
    "4. Color Preview: It usually includes a preview area that shows the currently selected color, allowing users to see how it looks before applying it.\n",
    "\n",
    "5. Eyedropper Tool: Many advanced color pickers include an eyedropper tool that allows users to select colors directly from their screen. This is useful for sampling colors from images or other on-screen elements.\n",
    "\n",
    "6. Color History: Some color pickers maintain a history of recently selected colors, making it easy for users to reuse them.\n",
    "\n",
    "Color pickers are essential tools for tasks like choosing colors for website design, creating digital artwork, adjusting image colors, and customizing user interfaces. They simplify the process of selecting precise colors and help maintain consistency in design and branding efforts."
   ]
  },
  {
   "cell_type": "code",
   "execution_count": 1,
   "metadata": {},
   "outputs": [],
   "source": [
    "import cv2\n",
    "import numpy as np\n",
    "\n",
    "def do_nothing(x):\n",
    "    pass\n",
    "\n",
    "\n",
    "# Creating a black images and a window\n",
    "img=np.zeros((300,512,3),np.uint8)\n",
    "cv2.namedWindow(\"Color Picker\")\n",
    "\n",
    "# Creating trackbars  1==ON and 0==OFF\n",
    "switch='0:OFF \\n 1:ON'\n",
    "cv2.createTrackbar(switch,'Color Picker',0,1,do_nothing)\n",
    "\n",
    "\n",
    "# Creating trackbars for Adjusting BGR values\n",
    "cv2.createTrackbar('R','Color Picker',0,255,do_nothing) # Here do_nothing is a function which does nothing\n",
    "cv2.createTrackbar('G','Color Picker',0,255,do_nothing) \n",
    "cv2.createTrackbar('B','Color Picker',0,255,do_nothing)\n",
    "\n",
    "# Now Creating to handle trackbar events\n",
    "while True:\n",
    "    cv2.imshow('Color Picker',img)\n",
    "    k=cv2.waitKey(1) & 0xFF\n",
    "    if k==27: # 27 is the ASCII value of ESC key\n",
    "        break \n",
    "\n",
    "    # Getting the current position of the trackbars\n",
    "    s=cv2.getTrackbarPos(switch,'Color Picker') # Here s is the current position of the switch\n",
    "    r=cv2.getTrackbarPos('R','Color Picker') # Here r is the current position of the Red trackbar\n",
    "    g=cv2.getTrackbarPos('G','Color Picker') # Here g is the current position of the Green trackbar\n",
    "    b=cv2.getTrackbarPos('B','Color Picker') # Here b is the current position of the Blue trackbar\n",
    "\n",
    "    if s==0:\n",
    "        img[:]=0\n",
    "    else:\n",
    "        img[:]=[b,g,r] # Here we are assigning the current position of the trackbars to the image\n",
    "\n",
    "    # Display RGB Values On The Image\n",
    "    rgb_text=f'RGB Value is: {r},{g},{b}'\n",
    "    cv2.putText(img,rgb_text,(10,30),cv2.FONT_HERSHEY_SIMPLEX,0.7,(255,255,255),2)    \n",
    "\n",
    "cv2.destroyAllWindows()"
   ]
  },
  {
   "cell_type": "markdown",
   "metadata": {},
   "source": [
    "# Thank You!"
   ]
  }
 ],
 "metadata": {
  "kernelspec": {
   "display_name": "Python 3",
   "language": "python",
   "name": "python3"
  },
  "language_info": {
   "codemirror_mode": {
    "name": "ipython",
    "version": 3
   },
   "file_extension": ".py",
   "mimetype": "text/x-python",
   "name": "python",
   "nbconvert_exporter": "python",
   "pygments_lexer": "ipython3",
   "version": "3.10.12"
  },
  "orig_nbformat": 4
 },
 "nbformat": 4,
 "nbformat_minor": 2
}
